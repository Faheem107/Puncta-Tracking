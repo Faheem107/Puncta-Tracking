{
 "cells": [
  {
   "cell_type": "code",
   "execution_count": 1,
   "id": "ff9ca8f9",
   "metadata": {},
   "outputs": [],
   "source": [
    "def sort_clean(filename=None, savelocation=None, time_between_frames= 1., diff= 1, exceptional_file = False):\n",
    "    \n",
    "    '''\n",
    "    Sort by spots and calculate rates within spots. \n",
    "    '''\n",
    "\n",
    "    import pandas as pd, csv\n",
    "    \n",
    "    df = pd.read_csv(filename)\n",
    "\n",
    "    #sort (two columns used for this specific case for sorting)\n",
    "    df.sort_values(by=['key_index_props_match','FRAME'], inplace = True)\n",
    "\n",
    "    #identify beginning frame for a spot (block)\n",
    "    df['FRAME'] = df['FRAME'].astype(int)\n",
    "    df['spot_start'] = (df['FRAME'].diff() <= 0).astype(int)\n",
    "\n",
    "    #assign a unique identifier to each spot (block)\n",
    "    df['spot_id'] = df['spot_start'].cumsum()\n",
    "    \n",
    "    diff = int(diff)\n",
    "    \n",
    "    #remane intensity as x and y\n",
    "    df.rename(columns={'intensity_total-0' : 'x', 'intensity_total-1' : 'y'}, inplace=True)\n",
    "    \n",
    "    #groupby the vesicle id and caculate the rate\n",
    "    df['Rate_x'] = df.groupby('spot_id')['x'].transform(lambda z: (z.shift(-diff) - z.shift(diff))/(time_between_frames*(diff*2.)))\n",
    "    df['Rate_y'] = df.groupby('spot_id')['y'].transform(lambda z: (z.shift(-diff) - z.shift(diff))/(time_between_frames*(diff*2.)))\n",
    "    \n",
    "    #drop nan values\n",
    "    df.dropna(inplace=True)\n",
    "\n",
    "    #drop unused columns\n",
    "    df = df[['x', 'y', 'Rate_x', 'Rate_y']]\n",
    "\n",
    "    #save the sorted database as a CSV file \n",
    "    df.to_csv(savelocation)\n",
    "    \n",
    "    return \"For {}, rates are saved at {}\".format(filename, savelocation)\n"
   ]
  }
 ],
 "metadata": {
  "kernelspec": {
   "display_name": "New Env",
   "language": "python",
   "name": "newenv"
  },
  "language_info": {
   "codemirror_mode": {
    "name": "ipython",
    "version": 3
   },
   "file_extension": ".py",
   "mimetype": "text/x-python",
   "name": "python",
   "nbconvert_exporter": "python",
   "pygments_lexer": "ipython3",
   "version": "3.10.14"
  }
 },
 "nbformat": 4,
 "nbformat_minor": 5
}
